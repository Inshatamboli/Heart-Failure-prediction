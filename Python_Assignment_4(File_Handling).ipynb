{
  "nbformat": 4,
  "nbformat_minor": 0,
  "metadata": {
    "colab": {
      "name": "Python Assignment-4(File Handling)",
      "provenance": [],
      "collapsed_sections": [],
      "authorship_tag": "ABX9TyMPJqh2p4lhSrtmU7f0SmQZ",
      "include_colab_link": true
    },
    "kernelspec": {
      "name": "python3",
      "display_name": "Python 3"
    },
    "language_info": {
      "name": "python"
    }
  },
  "cells": [
    {
      "cell_type": "markdown",
      "metadata": {
        "id": "view-in-github",
        "colab_type": "text"
      },
      "source": [
        "<a href=\"https://colab.research.google.com/github/Inshatamboli/Heart-Failure-prediction/blob/main/Python_Assignment_4(File_Handling).ipynb\" target=\"_parent\"><img src=\"https://colab.research.google.com/assets/colab-badge.svg\" alt=\"Open In Colab\"/></a>"
      ]
    },
    {
      "cell_type": "code",
      "metadata": {
        "id": "eIwbZ9A-R3un"
      },
      "source": [
        "import pandas as pd\n",
        "import os"
      ],
      "execution_count": 1,
      "outputs": []
    },
    {
      "cell_type": "code",
      "metadata": {
        "colab": {
          "base_uri": "https://localhost:8080/",
          "height": 441
        },
        "id": "-Q5sfKquSdL1",
        "outputId": "02537c1a-5e0e-4da5-8ecf-9d7209adaff1"
      },
      "source": [
        " pd.read_csv('/content/heart_failure..csv')"
      ],
      "execution_count": 3,
      "outputs": [
        {
          "output_type": "execute_result",
          "data": {
            "text/html": [
              "<div>\n",
              "<style scoped>\n",
              "    .dataframe tbody tr th:only-of-type {\n",
              "        vertical-align: middle;\n",
              "    }\n",
              "\n",
              "    .dataframe tbody tr th {\n",
              "        vertical-align: top;\n",
              "    }\n",
              "\n",
              "    .dataframe thead th {\n",
              "        text-align: right;\n",
              "    }\n",
              "</style>\n",
              "<table border=\"1\" class=\"dataframe\">\n",
              "  <thead>\n",
              "    <tr style=\"text-align: right;\">\n",
              "      <th></th>\n",
              "      <th>Unnamed: 0</th>\n",
              "      <th>age</th>\n",
              "      <th>anaemia</th>\n",
              "      <th>creatinine_phosphokinase</th>\n",
              "      <th>diabetes</th>\n",
              "      <th>ejection_fraction</th>\n",
              "      <th>high_blood_pressure</th>\n",
              "      <th>platelets</th>\n",
              "      <th>serum_creatinine</th>\n",
              "      <th>serum_sodium</th>\n",
              "      <th>sex</th>\n",
              "      <th>smoking</th>\n",
              "      <th>time</th>\n",
              "      <th>DEATH_EVENT</th>\n",
              "    </tr>\n",
              "  </thead>\n",
              "  <tbody>\n",
              "    <tr>\n",
              "      <th>0</th>\n",
              "      <td>0</td>\n",
              "      <td>75.0</td>\n",
              "      <td>No</td>\n",
              "      <td>582</td>\n",
              "      <td>No</td>\n",
              "      <td>20</td>\n",
              "      <td>Yes</td>\n",
              "      <td>265000.00</td>\n",
              "      <td>1.9</td>\n",
              "      <td>130</td>\n",
              "      <td>Male</td>\n",
              "      <td>No</td>\n",
              "      <td>4</td>\n",
              "      <td>1</td>\n",
              "    </tr>\n",
              "    <tr>\n",
              "      <th>1</th>\n",
              "      <td>1</td>\n",
              "      <td>55.0</td>\n",
              "      <td>No</td>\n",
              "      <td>7861</td>\n",
              "      <td>No</td>\n",
              "      <td>38</td>\n",
              "      <td>No</td>\n",
              "      <td>263358.03</td>\n",
              "      <td>1.1</td>\n",
              "      <td>136</td>\n",
              "      <td>Male</td>\n",
              "      <td>No</td>\n",
              "      <td>6</td>\n",
              "      <td>1</td>\n",
              "    </tr>\n",
              "    <tr>\n",
              "      <th>2</th>\n",
              "      <td>2</td>\n",
              "      <td>65.0</td>\n",
              "      <td>No</td>\n",
              "      <td>146</td>\n",
              "      <td>No</td>\n",
              "      <td>20</td>\n",
              "      <td>No</td>\n",
              "      <td>162000.00</td>\n",
              "      <td>1.3</td>\n",
              "      <td>129</td>\n",
              "      <td>Male</td>\n",
              "      <td>Yes</td>\n",
              "      <td>7</td>\n",
              "      <td>1</td>\n",
              "    </tr>\n",
              "    <tr>\n",
              "      <th>3</th>\n",
              "      <td>3</td>\n",
              "      <td>50.0</td>\n",
              "      <td>Yes</td>\n",
              "      <td>111</td>\n",
              "      <td>No</td>\n",
              "      <td>20</td>\n",
              "      <td>No</td>\n",
              "      <td>210000.00</td>\n",
              "      <td>1.9</td>\n",
              "      <td>137</td>\n",
              "      <td>Male</td>\n",
              "      <td>No</td>\n",
              "      <td>7</td>\n",
              "      <td>1</td>\n",
              "    </tr>\n",
              "    <tr>\n",
              "      <th>4</th>\n",
              "      <td>4</td>\n",
              "      <td>65.0</td>\n",
              "      <td>Yes</td>\n",
              "      <td>160</td>\n",
              "      <td>Yes</td>\n",
              "      <td>20</td>\n",
              "      <td>No</td>\n",
              "      <td>327000.00</td>\n",
              "      <td>2.7</td>\n",
              "      <td>116</td>\n",
              "      <td>Female</td>\n",
              "      <td>No</td>\n",
              "      <td>8</td>\n",
              "      <td>1</td>\n",
              "    </tr>\n",
              "    <tr>\n",
              "      <th>...</th>\n",
              "      <td>...</td>\n",
              "      <td>...</td>\n",
              "      <td>...</td>\n",
              "      <td>...</td>\n",
              "      <td>...</td>\n",
              "      <td>...</td>\n",
              "      <td>...</td>\n",
              "      <td>...</td>\n",
              "      <td>...</td>\n",
              "      <td>...</td>\n",
              "      <td>...</td>\n",
              "      <td>...</td>\n",
              "      <td>...</td>\n",
              "      <td>...</td>\n",
              "    </tr>\n",
              "    <tr>\n",
              "      <th>294</th>\n",
              "      <td>294</td>\n",
              "      <td>62.0</td>\n",
              "      <td>No</td>\n",
              "      <td>61</td>\n",
              "      <td>Yes</td>\n",
              "      <td>38</td>\n",
              "      <td>Yes</td>\n",
              "      <td>155000.00</td>\n",
              "      <td>1.1</td>\n",
              "      <td>143</td>\n",
              "      <td>Male</td>\n",
              "      <td>Yes</td>\n",
              "      <td>270</td>\n",
              "      <td>0</td>\n",
              "    </tr>\n",
              "    <tr>\n",
              "      <th>295</th>\n",
              "      <td>295</td>\n",
              "      <td>55.0</td>\n",
              "      <td>No</td>\n",
              "      <td>1820</td>\n",
              "      <td>No</td>\n",
              "      <td>38</td>\n",
              "      <td>No</td>\n",
              "      <td>270000.00</td>\n",
              "      <td>1.2</td>\n",
              "      <td>139</td>\n",
              "      <td>Female</td>\n",
              "      <td>No</td>\n",
              "      <td>271</td>\n",
              "      <td>0</td>\n",
              "    </tr>\n",
              "    <tr>\n",
              "      <th>296</th>\n",
              "      <td>296</td>\n",
              "      <td>45.0</td>\n",
              "      <td>No</td>\n",
              "      <td>2060</td>\n",
              "      <td>Yes</td>\n",
              "      <td>60</td>\n",
              "      <td>No</td>\n",
              "      <td>742000.00</td>\n",
              "      <td>0.8</td>\n",
              "      <td>138</td>\n",
              "      <td>Female</td>\n",
              "      <td>No</td>\n",
              "      <td>278</td>\n",
              "      <td>0</td>\n",
              "    </tr>\n",
              "    <tr>\n",
              "      <th>297</th>\n",
              "      <td>297</td>\n",
              "      <td>45.0</td>\n",
              "      <td>No</td>\n",
              "      <td>2413</td>\n",
              "      <td>No</td>\n",
              "      <td>38</td>\n",
              "      <td>No</td>\n",
              "      <td>140000.00</td>\n",
              "      <td>1.4</td>\n",
              "      <td>140</td>\n",
              "      <td>Male</td>\n",
              "      <td>Yes</td>\n",
              "      <td>280</td>\n",
              "      <td>0</td>\n",
              "    </tr>\n",
              "    <tr>\n",
              "      <th>298</th>\n",
              "      <td>298</td>\n",
              "      <td>50.0</td>\n",
              "      <td>No</td>\n",
              "      <td>196</td>\n",
              "      <td>No</td>\n",
              "      <td>45</td>\n",
              "      <td>No</td>\n",
              "      <td>395000.00</td>\n",
              "      <td>1.6</td>\n",
              "      <td>136</td>\n",
              "      <td>Male</td>\n",
              "      <td>Yes</td>\n",
              "      <td>285</td>\n",
              "      <td>0</td>\n",
              "    </tr>\n",
              "  </tbody>\n",
              "</table>\n",
              "<p>299 rows × 14 columns</p>\n",
              "</div>"
            ],
            "text/plain": [
              "     Unnamed: 0   age anaemia  ...  smoking time  DEATH_EVENT\n",
              "0             0  75.0      No  ...       No    4            1\n",
              "1             1  55.0      No  ...       No    6            1\n",
              "2             2  65.0      No  ...      Yes    7            1\n",
              "3             3  50.0     Yes  ...       No    7            1\n",
              "4             4  65.0     Yes  ...       No    8            1\n",
              "..          ...   ...     ...  ...      ...  ...          ...\n",
              "294         294  62.0      No  ...      Yes  270            0\n",
              "295         295  55.0      No  ...       No  271            0\n",
              "296         296  45.0      No  ...       No  278            0\n",
              "297         297  45.0      No  ...      Yes  280            0\n",
              "298         298  50.0      No  ...      Yes  285            0\n",
              "\n",
              "[299 rows x 14 columns]"
            ]
          },
          "metadata": {},
          "execution_count": 3
        }
      ]
    },
    {
      "cell_type": "code",
      "metadata": {
        "colab": {
          "base_uri": "https://localhost:8080/"
        },
        "id": "BcLdXBwGUn0Y",
        "outputId": "2a2f776f-e525-4e28-ab84-a23fae8daccc"
      },
      "source": [
        "file = open('/content/heart_failure..csv')\n",
        "print(file.read(100))"
      ],
      "execution_count": 4,
      "outputs": [
        {
          "output_type": "stream",
          "name": "stdout",
          "text": [
            ",age,anaemia,creatinine_phosphokinase,diabetes,ejection_fraction,high_blood_pressure,platelets,serum\n"
          ]
        }
      ]
    },
    {
      "cell_type": "code",
      "metadata": {
        "colab": {
          "base_uri": "https://localhost:8080/"
        },
        "id": "AcZMizlzV8-Q",
        "outputId": "e6e6d3de-e899-46a6-a1d6-0c7bd973c482"
      },
      "source": [
        "file = open('/content/heart_failure..csv',\"r\")\n",
        "print(file.read(10))"
      ],
      "execution_count": 5,
      "outputs": [
        {
          "output_type": "stream",
          "name": "stdout",
          "text": [
            ",age,anaem\n"
          ]
        }
      ]
    },
    {
      "cell_type": "code",
      "metadata": {
        "colab": {
          "base_uri": "https://localhost:8080/"
        },
        "id": "TcRsPVTkJBMe",
        "outputId": "6a97e65d-13a3-45e3-fe43-6d3e215c31a9"
      },
      "source": [
        "file.closed"
      ],
      "execution_count": 8,
      "outputs": [
        {
          "output_type": "execute_result",
          "data": {
            "text/plain": [
              "False"
            ]
          },
          "metadata": {},
          "execution_count": 8
        }
      ]
    },
    {
      "cell_type": "code",
      "metadata": {
        "colab": {
          "base_uri": "https://localhost:8080/",
          "height": 35
        },
        "id": "gklqkQYFJdVq",
        "outputId": "0fd7571a-809a-4828-c330-20d0d2c3334e"
      },
      "source": [
        "file.mode"
      ],
      "execution_count": 9,
      "outputs": [
        {
          "output_type": "execute_result",
          "data": {
            "application/vnd.google.colaboratory.intrinsic+json": {
              "type": "string"
            },
            "text/plain": [
              "'r'"
            ]
          },
          "metadata": {},
          "execution_count": 9
        }
      ]
    },
    {
      "cell_type": "code",
      "metadata": {
        "colab": {
          "base_uri": "https://localhost:8080/",
          "height": 35
        },
        "id": "7HiFvjCKJipC",
        "outputId": "512bd780-dad9-476f-efb5-c490034b23bf"
      },
      "source": [
        "file.name"
      ],
      "execution_count": 10,
      "outputs": [
        {
          "output_type": "execute_result",
          "data": {
            "application/vnd.google.colaboratory.intrinsic+json": {
              "type": "string"
            },
            "text/plain": [
              "'/content/heart_failure..csv'"
            ]
          },
          "metadata": {},
          "execution_count": 10
        }
      ]
    },
    {
      "cell_type": "code",
      "metadata": {
        "colab": {
          "base_uri": "https://localhost:8080/"
        },
        "id": "ei9L_msiPtBo",
        "outputId": "43797d6c-9524-43eb-f5e6-71d9483cf018"
      },
      "source": [
        "heart_failure= open('/content/heart_failure..csv')\n",
        "print(heart_failure)"
      ],
      "execution_count": 21,
      "outputs": [
        {
          "output_type": "stream",
          "name": "stdout",
          "text": [
            "<_io.TextIOWrapper name='/content/heart_failure..csv' mode='r' encoding='UTF-8'>\n"
          ]
        }
      ]
    },
    {
      "cell_type": "code",
      "metadata": {
        "colab": {
          "base_uri": "https://localhost:8080/"
        },
        "id": "wgL6tN2VQInP",
        "outputId": "8282cc12-3e2f-42a7-ce1c-9080cc81932e"
      },
      "source": [
        "heart_failure = open(\"/content/heart_failure..csv\")\n",
        "heart_failure.write"
      ],
      "execution_count": 22,
      "outputs": [
        {
          "output_type": "execute_result",
          "data": {
            "text/plain": [
              "<function TextIOWrapper.write>"
            ]
          },
          "metadata": {},
          "execution_count": 22
        }
      ]
    },
    {
      "cell_type": "code",
      "metadata": {
        "id": "xO44Pk1_Qx2w"
      },
      "source": [
        "heart_failure = open('/content/heart_failure..csv')\n",
        "str = heart_failure.read(10)"
      ],
      "execution_count": 23,
      "outputs": []
    },
    {
      "cell_type": "code",
      "metadata": {
        "colab": {
          "base_uri": "https://localhost:8080/"
        },
        "id": "qHsOxq7DRHNk",
        "outputId": "cba3f4cd-9905-4454-ebea-3bc726baece4"
      },
      "source": [
        "position = heart_failure.tell()\n",
        "print(position)"
      ],
      "execution_count": 31,
      "outputs": [
        {
          "output_type": "stream",
          "name": "stdout",
          "text": [
            "10\n"
          ]
        }
      ]
    },
    {
      "cell_type": "code",
      "metadata": {
        "colab": {
          "base_uri": "https://localhost:8080/"
        },
        "id": "6f8WdGHtSFYT",
        "outputId": "cb54ade8-db5e-4de6-a3fd-5f15ed67ddf0"
      },
      "source": [
        "heart_failure=pd.read_csv('/content/heart_failure..csv')\n",
        "print(heart_failure)"
      ],
      "execution_count": 34,
      "outputs": [
        {
          "output_type": "stream",
          "name": "stdout",
          "text": [
            "     Unnamed: 0   age anaemia  ...  smoking time  DEATH_EVENT\n",
            "0             0  75.0      No  ...       No    4            1\n",
            "1             1  55.0      No  ...       No    6            1\n",
            "2             2  65.0      No  ...      Yes    7            1\n",
            "3             3  50.0     Yes  ...       No    7            1\n",
            "4             4  65.0     Yes  ...       No    8            1\n",
            "..          ...   ...     ...  ...      ...  ...          ...\n",
            "294         294  62.0      No  ...      Yes  270            0\n",
            "295         295  55.0      No  ...       No  271            0\n",
            "296         296  45.0      No  ...       No  278            0\n",
            "297         297  45.0      No  ...      Yes  280            0\n",
            "298         298  50.0      No  ...      Yes  285            0\n",
            "\n",
            "[299 rows x 14 columns]\n"
          ]
        }
      ]
    },
    {
      "cell_type": "code",
      "metadata": {
        "id": "F0HNKx1OTnnG"
      },
      "source": [
        "os.rename(\"/content/heart_failure..csv\", \"heartfailure_csv\")"
      ],
      "execution_count": 37,
      "outputs": []
    },
    {
      "cell_type": "code",
      "metadata": {
        "id": "gMmdcspUUHmr"
      },
      "source": [
        "os.remove(\"heartfailure_csv\")"
      ],
      "execution_count": 38,
      "outputs": []
    }
  ]
}